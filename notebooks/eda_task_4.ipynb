{
 "cells": [
  {
   "cell_type": "code",
   "execution_count": null,
   "metadata": {},
   "outputs": [],
   "source": [
    "# Import necessary libraries\n",
    "from scripts.satisfaction import calculate_engagement_scores, calculate_experience_scores, build_regression_model\n",
    "from scripts.user_engagement import kmeans_clustering2\n",
    "from scripts.visualizations import plot_clusters\n",
    "from scripts.db_connection import get_data_from_postgres\n",
    "\n",
    "# Define database configuration\n",
    "db_config = {\n",
    "    'host': 'localhost',\n",
    "    'database': 'telecom_data',\n",
    "    'user': 'postgres',\n",
    "    'password': 'Lkj;Asdf!@'\n",
    "}\n",
    "\n",
    "# Fetch data from PostgreSQL\n",
    "query = \"SELECT * FROM xdr_data\"\n",
    "df = get_data_from_postgres(query, db_config)\n",
    "\n",
    "\n"
   ]
  },
  {
   "cell_type": "code",
   "execution_count": null,
   "metadata": {},
   "outputs": [],
   "source": [
    "# Ensure proper column names based on your data\n",
    "df['Total Traffic (Bytes)'] = df['Total DL (Bytes)'] + df['Total UL (Bytes)']\n",
    "df['Duration (ms)'] = df['Dur. (ms)']  # Renaming for consistency\n",
    "print(\"\\nFirst 5 rows of the data after adding 'Total Traffic (Bytes)' and 'Duration (ms)':\\n\", df.head())\n",
    "\n"
   ]
  },
  {
   "cell_type": "code",
   "execution_count": null,
   "metadata": {},
   "outputs": [],
   "source": [
    "# Task 4.1 - Calculate Engagement & Experience Scores\n",
    "df['engagement_score'] = calculate_engagement_scores(df)\n",
    "df['experience_score'] = calculate_experience_scores(df)\n",
    "print(\"\\nEngagement scores:\\n\", df['engagement_score'].head())\n",
    "print(\"\\nExperience scores:\\n\", df['experience_score'].head())\n",
    "\n"
   ]
  },
  {
   "cell_type": "code",
   "execution_count": null,
   "metadata": {},
   "outputs": [],
   "source": [
    "# Task 4.2 - Calculate Satisfaction Scores\n",
    "df['satisfaction_score'] = (df['engagement_score'] + df['experience_score']) / 2\n",
    "print(\"\\nSatisfaction scores:\\n\", df['satisfaction_score'].head())\n",
    "\n",
    "\n"
   ]
  },
  {
   "cell_type": "code",
   "execution_count": null,
   "metadata": {},
   "outputs": [],
   "source": [
    "# Task 4.3 - Build Regression Model\n",
    "model = build_regression_model(df, target='satisfaction_score')\n",
    "print(\"\\nRegression model summary:\\n\", model)\n",
    "\n"
   ]
  },
  {
   "cell_type": "code",
   "execution_count": null,
   "metadata": {},
   "outputs": [],
   "source": [
    "# Task 4.4 - K-Means Clustering (k=2)\n",
    "clusters, kmeans_model = kmeans_clustering2(df[['engagement_score', 'experience_score']], k=2)\n",
    "df['cluster'] = clusters\n",
    "print(\"\\nClusters assigned to users:\\n\", df[['engagement_score', 'experience_score', 'cluster']].head())\n",
    "\n",
    "# Plot the clusters\n",
    "plot_clusters(df, clusters)"
   ]
  }
 ],
 "metadata": {
  "kernelspec": {
   "display_name": "venv",
   "language": "python",
   "name": "python3"
  },
  "language_info": {
   "codemirror_mode": {
    "name": "ipython",
    "version": 3
   },
   "file_extension": ".py",
   "mimetype": "text/x-python",
   "name": "python",
   "nbconvert_exporter": "python",
   "pygments_lexer": "ipython3",
   "version": "3.12.6"
  }
 },
 "nbformat": 4,
 "nbformat_minor": 2
}
