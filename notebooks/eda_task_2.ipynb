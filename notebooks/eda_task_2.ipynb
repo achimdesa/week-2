{
 "cells": [
  {
   "cell_type": "code",
   "execution_count": null,
   "metadata": {},
   "outputs": [],
   "source": [
    "# Import necessary libraries\n",
    "from scripts.db_connection import get_data_from_postgres\n",
    "from scripts.user_engagement import aggregate_metrics, normalize_metrics, kmeans_clustering, elbow_method, top_customers, top_applications"
   ]
  },
  {
   "cell_type": "code",
   "execution_count": null,
   "metadata": {},
   "outputs": [],
   "source": [
    "# Define database configuration\n",
    "db_config = {\n",
    "    'host': 'localhost',\n",
    "    'database': 'telecom_data',\n",
    "    'user': 'postgres',\n",
    "    'password': 'Lkj;Asdf!@'\n",
    "}\n",
    "\n",
    "# Define SQL query to fetch data from PostgreSQL\n",
    "query = \"SELECT * FROM xdr_data\"\n",
    "\n",
    "# Load data from PostgreSQL\n",
    "df = get_data_from_postgres(query, db_config)"
   ]
  },
  {
   "cell_type": "code",
   "execution_count": null,
   "metadata": {},
   "outputs": [],
   "source": [
    "# Perform User Engagement Analysis\n",
    "agg_df = aggregate_metrics(df)\n"
   ]
  },
  {
   "cell_type": "code",
   "execution_count": null,
   "metadata": {},
   "outputs": [],
   "source": [
    "# Display top 10 customers by session duration\n",
    "top_duration_customers = top_customers(agg_df, 'Dur. (ms)')\n",
    "print(top_duration_customers)\n"
   ]
  },
  {
   "cell_type": "code",
   "execution_count": null,
   "metadata": {},
   "outputs": [],
   "source": [
    "# Normalize the metrics\n",
    "normalized_df = normalize_metrics(agg_df)\n",
    "\n"
   ]
  },
  {
   "cell_type": "code",
   "execution_count": null,
   "metadata": {},
   "outputs": [],
   "source": [
    "# Perform K-means clustering\n",
    "clustered_df, kmeans_model = kmeans_clustering(normalized_df)\n",
    "\n",
    "print(clustered_df, kmeans_model)"
   ]
  },
  {
   "cell_type": "code",
   "execution_count": null,
   "metadata": {},
   "outputs": [],
   "source": [
    "# Elbow method to find optimal number of clusters\n",
    "elbow_method(normalized_df)"
   ]
  },
  {
   "cell_type": "code",
   "execution_count": null,
   "metadata": {},
   "outputs": [],
   "source": [
    "# Show top 10 customers by total traffic\n",
    "top_traffic_customers = top_customers(agg_df, 'Total Traffic (Bytes)')\n",
    "print(top_traffic_customers)\n"
   ]
  },
  {
   "cell_type": "code",
   "execution_count": null,
   "metadata": {},
   "outputs": [],
   "source": [
    "# Aggregate application usage and show top 10\n",
    "top_app_users = top_applications(df)\n",
    "print(top_app_users)"
   ]
  }
 ],
 "metadata": {
  "kernelspec": {
   "display_name": "venv",
   "language": "python",
   "name": "python3"
  },
  "language_info": {
   "codemirror_mode": {
    "name": "ipython",
    "version": 3
   },
   "file_extension": ".py",
   "mimetype": "text/x-python",
   "name": "python",
   "nbconvert_exporter": "python",
   "pygments_lexer": "ipython3",
   "version": "3.12.5"
  }
 },
 "nbformat": 4,
 "nbformat_minor": 2
}
