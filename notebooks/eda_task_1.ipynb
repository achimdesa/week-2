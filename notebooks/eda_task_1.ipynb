{
 "cells": [
  {
   "cell_type": "code",
   "execution_count": null,
   "metadata": {},
   "outputs": [],
   "source": [
    "# Importing necessary libraries\n",
    "from scripts.data_processing import load_data, clean_data, segment_users, get_top_handsets, get_top_manufacturers, get_top_handsets_per_manufacturer\n",
    "from scripts.eda_functions import basic_metrics, compute_dispersion, bivariate_analysis, compute_correlation_matrix\n",
    "from scripts.visualizations import plot_univariate, plot_bivariate, plot_correlation_matrix\n",
    "from scripts.pca_functions import apply_pca, interpret_pca\n",
    "from scripts.db_connection import get_data_from_postgres\n"
   ]
  },
  {
   "cell_type": "code",
   "execution_count": null,
   "metadata": {},
   "outputs": [],
   "source": [
    "# Define database configuration\n",
    "db_config = {\n",
    "    'host': 'localhost',\n",
    "    'database': 'telecom_data',\n",
    "    'user': 'postgres',\n",
    "    'password': 'Lkj;Asdf!@'\n",
    "}\n",
    "\n",
    "# Define SQL query\n",
    "query = \"SELECT * FROM xdr_data\"\n",
    "\n",
    "# Get data from PostgreSQL\n",
    "df = get_data_from_postgres(query, db_config)"
   ]
  },
  {
   "cell_type": "code",
   "execution_count": null,
   "metadata": {},
   "outputs": [],
   "source": [
    "# Clean the dataset\n",
    "df = clean_data(df)"
   ]
  },
  {
   "cell_type": "code",
   "execution_count": null,
   "metadata": {},
   "outputs": [],
   "source": [
    "# Identify top 10 handsets\n",
    "top_handsets = get_top_handsets(df)\n",
    "print(top_handsets)\n"
   ]
  },
  {
   "cell_type": "code",
   "execution_count": null,
   "metadata": {},
   "outputs": [],
   "source": [
    "# Identify top 3 manufacturers\n",
    "top_manufacturers = get_top_manufacturers(df)\n",
    "print(top_manufacturers)"
   ]
  },
  {
   "cell_type": "code",
   "execution_count": null,
   "metadata": {},
   "outputs": [],
   "source": [
    "# Identify top 5 handsets per top 3 manufacturers\n",
    "top_handsets_manufacturers = get_top_handsets_per_manufacturer(df, top_manufacturers.index)\n",
    "print(top_handsets_manufacturers)"
   ]
  },
  {
   "cell_type": "code",
   "execution_count": null,
   "metadata": {},
   "outputs": [],
   "source": [
    "# Segment users and calculate total data\n",
    "df = segment_users(df, 'Activity Duration DL (ms)')\n",
    "print(df.head())"
   ]
  },
  {
   "cell_type": "code",
   "execution_count": null,
   "metadata": {},
   "outputs": [],
   "source": [
    "# Perform basic EDA\n",
    "metrics = basic_metrics(df)\n",
    "print(metrics)\n"
   ]
  },
  {
   "cell_type": "code",
   "execution_count": null,
   "metadata": {},
   "outputs": [],
   "source": [
    "# Univariate analysis\n",
    "plot_univariate(df, 'Activity Duration DL (ms)')\n",
    "plot_bivariate(df, 'Avg Bearer TP DL (kbps)', 'Avg Bearer TP UL (kbps)')\n",
    "plot_correlation_matrix(df)"
   ]
  },
  {
   "cell_type": "code",
   "execution_count": null,
   "metadata": {},
   "outputs": [],
   "source": [
    "# Assuming total data as the sum of total download and upload bytes\n",
    "df['total_data'] = df['Total DL (Bytes)'] + df['Total UL (Bytes)']\n",
    "\n",
    "# Perform bivariate analysis\n",
    "features = ['Social Media DL (Bytes)', 'Google DL (Bytes)', 'Email DL (Bytes)', \n",
    "            'Youtube DL (Bytes)', 'Netflix DL (Bytes)', 'Gaming DL (Bytes)', \n",
    "            'Other DL (Bytes)', 'Social Media UL (Bytes)', 'Google UL (Bytes)', \n",
    "            'Email UL (Bytes)', 'Youtube UL (Bytes)', 'Netflix UL (Bytes)', \n",
    "            'Gaming UL (Bytes)', 'Other UL (Bytes)']\n",
    "\n",
    "bivariate_results = bivariate_analysis(df, 'total_data', features)\n",
    "print(bivariate_results)"
   ]
  },
  {
   "cell_type": "code",
   "execution_count": null,
   "metadata": {},
   "outputs": [],
   "source": [
    "# Correlation matrix for app data\n",
    "corr_matrix = compute_correlation_matrix(df, features)\n",
    "plot_correlation_matrix(corr_matrix)"
   ]
  },
  {
   "cell_type": "code",
   "execution_count": null,
   "metadata": {},
   "outputs": [],
   "source": [
    "# Apply PCA for dimensionality reduction\n",
    "pca_results, explained_variance = apply_pca(df, features, n_components=2)\n",
    "interpret_pca(pca_results, explained_variance)"
   ]
  }
 ],
 "metadata": {
  "kernelspec": {
   "display_name": "venv",
   "language": "python",
   "name": "python3"
  },
  "language_info": {
   "codemirror_mode": {
    "name": "ipython",
    "version": 3
   },
   "file_extension": ".py",
   "mimetype": "text/x-python",
   "name": "python",
   "nbconvert_exporter": "python",
   "pygments_lexer": "ipython3",
   "version": "3.12.5"
  }
 },
 "nbformat": 4,
 "nbformat_minor": 2
}
