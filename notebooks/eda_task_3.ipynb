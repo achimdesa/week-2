{
 "cells": [
  {
   "cell_type": "code",
   "execution_count": null,
   "metadata": {},
   "outputs": [],
   "source": [
    "# Import necessary libraries\n",
    "import pandas as pd\n",
    "from scripts.data_processing import aggregate_experience_metrics, get_top_bottom_frequent\n",
    "from scripts.user_engagement import kmeans_clustering\n",
    "from scripts.visualizations import plot_distribution\n",
    "from scripts.db_connection import get_data_from_postgres\n",
    "\n",
    "\n"
   ]
  },
  {
   "cell_type": "code",
   "execution_count": null,
   "metadata": {},
   "outputs": [],
   "source": [
    "\n",
    "# Define database configuration\n",
    "db_config = {\n",
    "    'host': 'localhost',\n",
    "    'database': 'telecom_data',\n",
    "    'user': 'postgres',\n",
    "    'password': 'Lkj;Asdf!@'\n",
    "}\n",
    "\n",
    "# Define SQL query\n",
    "query = \"SELECT * FROM xdr_data\"\n",
    "\n",
    "# Get data from PostgreSQL\n",
    "df = get_data_from_postgres(query, db_config)"
   ]
  },
  {
   "cell_type": "code",
   "execution_count": null,
   "metadata": {},
   "outputs": [],
   "source": [
    "\n",
    "# Task 3.1 - Aggregate Experience Metrics\n",
    "experience_metrics = aggregate_experience_metrics(df)\n",
    "print(experience_metrics.head())\n",
    "\n"
   ]
  },
  {
   "cell_type": "code",
   "execution_count": null,
   "metadata": {},
   "outputs": [],
   "source": [
    "# Task 3.2 - Top, Bottom, and Frequent Values for 'Avg Bearer TP DL (kbps)'\n",
    "top_bottom_frequent = get_top_bottom_frequent(df, 'Avg Bearer TP DL (kbps)')\n",
    "print(top_bottom_frequent)\n"
   ]
  },
  {
   "cell_type": "code",
   "execution_count": null,
   "metadata": {},
   "outputs": [],
   "source": [
    "\n",
    "# Task 3.2 - Top, Bottom, and Frequent Values for 'Avg RTT DL (ms)'\n",
    "top_bottom_frequent_rtt = get_top_bottom_frequent(df, 'Avg RTT DL (ms)')\n",
    "print(top_bottom_frequent_rtt)\n",
    "\n"
   ]
  },
  {
   "cell_type": "code",
   "execution_count": null,
   "metadata": {},
   "outputs": [],
   "source": [
    "# Task 3.3 - Distribution Per Handset\n",
    "df['avg_throughput'] = (df['Avg Bearer TP DL (kbps)'] + df['Avg Bearer TP UL (kbps)']) / 2\n",
    "plot_distribution(df, 'Handset Type', 'avg_throughput')\n"
   ]
  },
  {
   "cell_type": "code",
   "execution_count": null,
   "metadata": {},
   "outputs": [],
   "source": [
    "\n",
    "# Task 3.4 - K-Means Clustering\n",
    "# Convert relevant columns to numeric types, replacing non-numeric values with NaN\n",
    "df['Total DL (Bytes)'] = pd.to_numeric(df['Total DL (Bytes)'], errors='coerce')\n",
    "df['Total UL (Bytes)'] = pd.to_numeric(df['Total UL (Bytes)'], errors='coerce')\n",
    "df['Dur. (ms)'] = pd.to_numeric(df['Dur. (ms)'], errors='coerce')\n",
    "df['Bearer Id'] = pd.to_numeric(df['Bearer Id'], errors='coerce')\n",
    "\n",
    "# Create the 'Total Traffic (Bytes)' column\n",
    "df['Total Traffic (Bytes)'] = df['Total DL (Bytes)'] + df['Total UL (Bytes)']\n",
    "\n",
    "# Handle missing values (if any), only apply to numeric columns\n",
    "df.fillna(df.mean(numeric_only=True), inplace=True)\n",
    "\n",
    "# Create the 'Total Traffic (Bytes)' column\n",
    "df['Total Traffic (Bytes)'] = df['Total DL (Bytes)'] + df['Total UL (Bytes)']\n",
    "\n",
    "# Handle missing values (if any), only apply to numeric columns\n",
    "df.fillna(df.mean(numeric_only=True), inplace=True)\n",
    "\n",
    "# Apply clustering\n",
    "clusters, kmeans_model = kmeans_clustering(df, k=3)\n",
    "\n",
    "# Print cluster centers\n",
    "print(kmeans_model.cluster_centers_)"
   ]
  }
 ],
 "metadata": {
  "kernelspec": {
   "display_name": "venv",
   "language": "python",
   "name": "python3"
  },
  "language_info": {
   "codemirror_mode": {
    "name": "ipython",
    "version": 3
   },
   "file_extension": ".py",
   "mimetype": "text/x-python",
   "name": "python",
   "nbconvert_exporter": "python",
   "pygments_lexer": "ipython3",
   "version": "3.12.5"
  }
 },
 "nbformat": 4,
 "nbformat_minor": 2
}
